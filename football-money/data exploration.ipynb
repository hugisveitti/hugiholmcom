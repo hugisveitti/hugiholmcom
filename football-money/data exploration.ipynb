{
 "cells": [
  {
   "cell_type": "markdown",
   "metadata": {},
   "source": [
    "## Data exploration\n",
    "\n",
    "This file is mostly for fixing the data and finding correct teams. There is a problem that the team names from the fifa index don't always exactly match the ones from the API. Also sometimes the market value is \"\" and then we need to make another request.\n",
    "\n",
    "This file is a mess and should be ignored"
   ]
  },
  {
   "cell_type": "code",
   "execution_count": 1,
   "metadata": {},
   "outputs": [],
   "source": [
    "import json\n",
    "import math"
   ]
  },
  {
   "cell_type": "code",
   "execution_count": 2,
   "metadata": {},
   "outputs": [],
   "source": [
    "with open('players.json', encoding=\"utf8\") as f:\n",
    "  new_players = json.load(f)"
   ]
  },
  {
   "cell_type": "code",
   "execution_count": 3,
   "metadata": {},
   "outputs": [],
   "source": [
    "#with open('players_old.json', encoding=\"utf8\") as f:\n",
    " # old_players = json.load(f)\n",
    "old_players = []"
   ]
  },
  {
   "cell_type": "code",
   "execution_count": 4,
   "metadata": {},
   "outputs": [
    {
     "data": {
      "text/plain": [
       "0"
      ]
     },
     "execution_count": 4,
     "metadata": {},
     "output_type": "execute_result"
    }
   ],
   "source": [
    "len(old_players)"
   ]
  },
  {
   "cell_type": "code",
   "execution_count": 5,
   "metadata": {},
   "outputs": [],
   "source": [
    "#new_players"
   ]
  },
  {
   "cell_type": "code",
   "execution_count": 6,
   "metadata": {},
   "outputs": [],
   "source": [
    "def normalize_team_name(team_name):\n",
    "    if team_name[-3:] == \" FC\":\n",
    "        team_name = team_name[:-3]\n",
    "   \n",
    "    team_name = team_name.lower().replace('ü', \"u\").replace('ö', \"o\").replace('ä', \"a\").replace('ß', \"ss\");\n",
    "    return team_name"
   ]
  },
  {
   "cell_type": "code",
   "execution_count": 7,
   "metadata": {},
   "outputs": [
    {
     "data": {
      "text/plain": [
       "'o'"
      ]
     },
     "execution_count": 7,
     "metadata": {},
     "output_type": "execute_result"
    }
   ],
   "source": [
    "normalize_team_name(\"ö\")"
   ]
  },
  {
   "cell_type": "code",
   "execution_count": 8,
   "metadata": {},
   "outputs": [],
   "source": [
    "def get_team(team_name):\n",
    "    team = []\n",
    "    norm_team_name = normalize_team_name(team_name)\n",
    "    for item in new_players:\n",
    "        for item_team in item[\"teams\"]:\n",
    "            if norm_team_name == normalize_team_name(item_team):\n",
    "                team.append(item)\n",
    "    return team"
   ]
  },
  {
   "cell_type": "code",
   "execution_count": 9,
   "metadata": {},
   "outputs": [],
   "source": [
    "#get_team(\"Liverpool\")"
   ]
  },
  {
   "cell_type": "code",
   "execution_count": 10,
   "metadata": {},
   "outputs": [
    {
     "data": {
      "text/plain": [
       "True"
      ]
     },
     "execution_count": 10,
     "metadata": {},
     "output_type": "execute_result"
    }
   ],
   "source": [
    "normalize_team_name('FC Bayern München') == normalize_team_name(\"FC Bayern Munchen\")"
   ]
  },
  {
   "cell_type": "code",
   "execution_count": 11,
   "metadata": {},
   "outputs": [],
   "source": [
    "with open(\"englishTeams.json\", encoding=\"utf8\") as f:\n",
    "    englishTeams = json.load(f)[\"data\"]"
   ]
  },
  {
   "cell_type": "code",
   "execution_count": 12,
   "metadata": {},
   "outputs": [
    {
     "data": {
      "text/plain": [
       "'liverpool'"
      ]
     },
     "execution_count": 12,
     "metadata": {},
     "output_type": "execute_result"
    }
   ],
   "source": [
    "normalize_team_name(\"Liverpool FC\")"
   ]
  },
  {
   "cell_type": "code",
   "execution_count": 13,
   "metadata": {},
   "outputs": [],
   "source": [
    "with open(\"germanTeams.json\", encoding=\"utf8\") as f:\n",
    "    germanTeams = json.load(f)[\"data\"]"
   ]
  },
  {
   "cell_type": "code",
   "execution_count": 14,
   "metadata": {},
   "outputs": [],
   "source": [
    "with open(\"eng_ger_players.json\", encoding=\"utf8\") as f:\n",
    "    curr_players = json.load(f)"
   ]
  },
  {
   "cell_type": "code",
   "execution_count": 15,
   "metadata": {},
   "outputs": [
    {
     "name": "stdout",
     "output_type": "stream",
     "text": [
      "FC Bayern Munchen\n"
     ]
    }
   ],
   "source": [
    "for team in germanTeams:\n",
    "    if \"Bayern\" in team[\"name\"]:\n",
    "        \n",
    "        print(team[\"name\"])"
   ]
  },
  {
   "cell_type": "code",
   "execution_count": 16,
   "metadata": {},
   "outputs": [],
   "source": [
    "def find_all_players(teams):\n",
    "    all_players = []\n",
    "    teams_found = 0\n",
    "    teams_searched = []\n",
    "    for team in teams:\n",
    "        team_name_norm = normalize_team_name(team[\"name\"])\n",
    "        if team_name_norm not in teams_searched:\n",
    "            players = get_team(team_name_norm)\n",
    "            if players:\n",
    "                teams_found += 1\n",
    "            teams_searched.append(team_name_norm)\n",
    "        all_players = all_players + players\n",
    "    return all_players"
   ]
  },
  {
   "cell_type": "code",
   "execution_count": 17,
   "metadata": {},
   "outputs": [],
   "source": [
    "#englishPlayers = find_all_players(englishTeams)\n",
    "#germanPlayers = find_all_players(germanTeams)"
   ]
  },
  {
   "cell_type": "code",
   "execution_count": 19,
   "metadata": {},
   "outputs": [],
   "source": [
    "#len(englishPlayers)"
   ]
  },
  {
   "cell_type": "code",
   "execution_count": 23,
   "metadata": {},
   "outputs": [],
   "source": [
    "##for player in all_players:\n",
    "#    for t in player[\"teams\"]:\n",
    "#        if normalize_team_name(\"Liverpool FC\") == normalize_team_name(t):\n",
    "#            print(player[\"Player\"])"
   ]
  },
  {
   "cell_type": "code",
   "execution_count": 24,
   "metadata": {},
   "outputs": [],
   "source": [
    "#len(germanPlayers)"
   ]
  },
  {
   "cell_type": "code",
   "execution_count": 25,
   "metadata": {},
   "outputs": [],
   "source": [
    "#all_players = englishPlayers + germanPlayers"
   ]
  },
  {
   "cell_type": "code",
   "execution_count": 28,
   "metadata": {},
   "outputs": [],
   "source": [
    "#len(all_players)"
   ]
  },
  {
   "cell_type": "code",
   "execution_count": 26,
   "metadata": {},
   "outputs": [],
   "source": []
  },
  {
   "cell_type": "code",
   "execution_count": 29,
   "metadata": {},
   "outputs": [],
   "source": []
  },
  {
   "cell_type": "code",
   "execution_count": null,
   "metadata": {},
   "outputs": [],
   "source": [
    "#not_in_curr"
   ]
  },
  {
   "cell_type": "code",
   "execution_count": null,
   "metadata": {},
   "outputs": [],
   "source": [
    "#for player in not_in_curr:\n",
    "#    if player[\"Player\"] == \"Mohamed Salah\":\n",
    "#        print(player)"
   ]
  },
  {
   "cell_type": "code",
   "execution_count": null,
   "metadata": {},
   "outputs": [],
   "source": [
    "def find_player(player_name, player_teams, heading, player):\n",
    "    ncorrectplayer = None\n",
    "    for nplayer in new_players:\n",
    "        if nplayer[\"Player\"] == player_name and nplayer[\"teams\"] == player_teams and nplayer[\"heading\"] == heading:\n",
    "            ncorrectplayer = nplayer\n",
    "   \n",
    "    ocorrectplayer = None\n",
    "    for oplayer in old_players:\n",
    "        if oplayer[\"Player\"] == player_name and oplayer[\"Teams\"] == player_teams and oplayer[\"Heading\"] == heading:\n",
    "            ocorrectplayer = oplayer\n",
    "           \n",
    "    \n",
    "    if not ocorrectplayer:\n",
    "        return ncorrectplayer\n",
    "    if not ncorrectplayer:\n",
    "        return ocorrectplayer\n",
    "    types = [\"Market Value\", \"Weekly Salary\"]\n",
    "\n",
    "    for t in types:\n",
    "        try:\n",
    "            float(ncorrectplayer[t])\n",
    "        except:\n",
    "            try: \n",
    "                float(ocorrectplayer[t])\n",
    "                ncorrectplayer[t] = ocorrectplayer[t]\n",
    "            except:\n",
    "                pass\n",
    "            \n",
    "  \n",
    "    return ncorrectplayer\n",
    "    "
   ]
  },
  {
   "cell_type": "code",
   "execution_count": null,
   "metadata": {},
   "outputs": [],
   "source": [
    "#correctenglishplayers = []\n",
    "#for player in englishPlayers:\n",
    "#    new_player = find_player(player[\"Player\"], player[\"teams\"], player[\"heading\"], player)\n",
    "#    correctenglishplayers = correctenglishplayers + [new_player]"
   ]
  },
  {
   "cell_type": "code",
   "execution_count": null,
   "metadata": {},
   "outputs": [],
   "source": [
    "#correctgermanplayers = []\n",
    "#for player in germanPlayers:\n",
    "#    new_player = find_player(player[\"Player\"], player[\"teams\"], player[\"heading\"], player)\n",
    "#    correctgermanplayers = correctgermanplayers + [new_player]"
   ]
  },
  {
   "cell_type": "code",
   "execution_count": null,
   "metadata": {},
   "outputs": [],
   "source": [
    "#all_players = correctgermanplayers + correctenglishplayers"
   ]
  },
  {
   "cell_type": "code",
   "execution_count": null,
   "metadata": {},
   "outputs": [],
   "source": [
    "#with open(\"eng_ger_players.json\", \"w\", encoding=\"utf8\") as file:\n",
    "#    json.dump(all_players, file, ensure_ascii=False)"
   ]
  },
  {
   "cell_type": "code",
   "execution_count": 31,
   "metadata": {},
   "outputs": [],
   "source": [
    "#player = scrape_fifa_site(\"https://www.fifaindex.com/player/231281/trent-alexander-arnold/\")"
   ]
  },
  {
   "cell_type": "code",
   "execution_count": 32,
   "metadata": {},
   "outputs": [],
   "source": []
  },
  {
   "cell_type": "code",
   "execution_count": null,
   "metadata": {},
   "outputs": [],
   "source": [
    "all_curr_players = curr_players + not_in_curr"
   ]
  },
  {
   "cell_type": "code",
   "execution_count": null,
   "metadata": {},
   "outputs": [],
   "source": [
    "#with open(\"all_curr_eng_ger_players.json\", \"w\", encoding=\"utf8\") as file:\n",
    " #   json.dump(all_players, file, ensure_ascii=False)"
   ]
  },
  {
   "cell_type": "code",
   "execution_count": null,
   "metadata": {},
   "outputs": [],
   "source": [
    "#with open(\"all_eng_ger_players.json\", \"w\", encoding=\"utf8\") as file:\n",
    " #   json.dump(all_players, file, ensure_ascii=False)"
   ]
  },
  {
   "cell_type": "code",
   "execution_count": null,
   "metadata": {},
   "outputs": [],
   "source": [
    "#with open(\"eng_ger_players.json\", \"w\", encoding=\"utf8\") as file:\n",
    " #   json.dump(all_players, file, ensure_ascii=False)"
   ]
  },
  {
   "cell_type": "code",
   "execution_count": null,
   "metadata": {},
   "outputs": [],
   "source": [
    "len(all_players)"
   ]
  },
  {
   "cell_type": "code",
   "execution_count": null,
   "metadata": {},
   "outputs": [],
   "source": [
    "all_names = []\n",
    "for player in all_players:\n",
    "    all_names.append(player[\"Player\"] + player[\"teams\"][0])"
   ]
  },
  {
   "cell_type": "code",
   "execution_count": null,
   "metadata": {},
   "outputs": [],
   "source": [
    "print(len(all_names))\n",
    "print(len(list(set(all_names))))"
   ]
  },
  {
   "cell_type": "code",
   "execution_count": null,
   "metadata": {},
   "outputs": [],
   "source": [
    "uni_players = []\n",
    "uni_players_test = []\n",
    "for player in all_players:\n",
    "    if player[\"Player\"] + player[\"teams\"][0] + (str(player[\"heading\"])) not in uni_players_test:\n",
    "        uni_players.append(player)\n",
    "        uni_players_test.append(player[\"Player\"] + player[\"teams\"][0] + (str(player[\"heading\"])))\n",
    "        "
   ]
  },
  {
   "cell_type": "code",
   "execution_count": null,
   "metadata": {},
   "outputs": [],
   "source": [
    "len(uni_players)"
   ]
  },
  {
   "cell_type": "code",
   "execution_count": null,
   "metadata": {},
   "outputs": [],
   "source": [
    "#with open(\"eng_ger_players.json\", \"w\", encoding=\"utf8\") as file:\n",
    " #   json.dump(uni_players, file, ensure_ascii=False)"
   ]
  },
  {
   "cell_type": "code",
   "execution_count": null,
   "metadata": {},
   "outputs": [],
   "source": [
    "errs = 0\n",
    "for player in all_curr_players:\n",
    "    \n",
    "    try:\n",
    "  \n",
    "        float(player[\"Weekly Salary\"])\n",
    "    except:\n",
    "        #player[\"Market Value\"] = float(player[\"Market Value\"])\n",
    "        player[\"Weekly Salary\"] = float(player[\"Weekly Salary\"].replace(\".\",\"\"))\n",
    "       \n",
    "        print(\"err\",player[\"Market Value\"].replace(\".\",\"\"))\n",
    "        errs += 1\n",
    "    try:\n",
    "        float(player[\"Market Value\"])\n",
    "      \n",
    "    except:\n",
    "\n",
    "        player[\"Market Value\"] = float(player[\"Market Value\"].replace(\".\",\"\"))\n",
    "    \n",
    "        errs += 1\n",
    "errs"
   ]
  },
  {
   "cell_type": "code",
   "execution_count": 1,
   "metadata": {},
   "outputs": [],
   "source": [
    "import json"
   ]
  },
  {
   "cell_type": "code",
   "execution_count": 2,
   "metadata": {},
   "outputs": [],
   "source": [
    "with open(\"all_eng_ger_players.json\", encoding=\"utf8\") as f:\n",
    "    all_eng_ger = json.load(f)"
   ]
  },
  {
   "cell_type": "code",
   "execution_count": 3,
   "metadata": {},
   "outputs": [],
   "source": [
    "with open(\"all_curr_eng_ger_players.json\", encoding=\"utf8\") as f:\n",
    "    all_curr = json.load(f)"
   ]
  },
  {
   "cell_type": "code",
   "execution_count": 4,
   "metadata": {},
   "outputs": [
    {
     "data": {
      "text/plain": [
       "144"
      ]
     },
     "execution_count": 4,
     "metadata": {},
     "output_type": "execute_result"
    }
   ],
   "source": [
    "not_in_curr = []\n",
    "not_in = 0\n",
    "for player in all_curr:\n",
    "    found = False\n",
    "    for p_player in all_eng_ger:\n",
    "        if p_player[\"Player\"] == player[\"Player\"]:\n",
    "            found = True\n",
    "    if not found: \n",
    "        not_in_curr.append(player)\n",
    "        not_in +=1\n",
    "not_in"
   ]
  },
  {
   "cell_type": "code",
   "execution_count": 5,
   "metadata": {},
   "outputs": [
    {
     "name": "stderr",
     "output_type": "stream",
     "text": [
      "c:\\users\\hugi\\appdata\\local\\programs\\python\\python38\\lib\\site-packages\\requests\\__init__.py:89: RequestsDependencyWarning: urllib3 (1.26.2) or chardet (3.0.4) doesn't match a supported version!\n",
      "  warnings.warn(\"urllib3 ({}) or chardet ({}) doesn't match a supported \"\n"
     ]
    }
   ],
   "source": [
    "from scraper import scrape_fifa_site"
   ]
  },
  {
   "cell_type": "code",
   "execution_count": null,
   "metadata": {},
   "outputs": [],
   "source": []
  },
  {
   "cell_type": "code",
   "execution_count": 6,
   "metadata": {},
   "outputs": [
    {
     "name": "stdout",
     "output_type": "stream",
     "text": [
      "0 / 144\n",
      "1 / 144\n",
      "2 / 144\n",
      "3 / 144\n",
      "4 / 144\n",
      "5 / 144\n",
      "6 / 144\n",
      "7 / 144\n",
      "8 / 144\n",
      "9 / 144\n",
      "10 / 144\n",
      "11 / 144\n",
      "12 / 144\n",
      "13 / 144\n",
      "14 / 144\n",
      "15 / 144\n",
      "16 / 144\n",
      "17 / 144\n",
      "18 / 144\n",
      "19 / 144\n",
      "20 / 144\n",
      "21 / 144\n",
      "22 / 144\n",
      "23 / 144\n",
      "24 / 144\n",
      "25 / 144\n",
      "26 / 144\n",
      "27 / 144\n",
      "28 / 144\n",
      "29 / 144\n",
      "30 / 144\n",
      "31 / 144\n",
      "32 / 144\n",
      "33 / 144\n",
      "34 / 144\n",
      "35 / 144\n",
      "36 / 144\n",
      "37 / 144\n",
      "38 / 144\n",
      "39 / 144\n",
      "40 / 144\n",
      "41 / 144\n",
      "42 / 144\n",
      "43 / 144\n",
      "44 / 144\n",
      "45 / 144\n",
      "46 / 144\n",
      "47 / 144\n",
      "48 / 144\n",
      "49 / 144\n",
      "50 / 144\n",
      "51 / 144\n",
      "52 / 144\n",
      "53 / 144\n",
      "54 / 144\n",
      "55 / 144\n",
      "56 / 144\n",
      "57 / 144\n",
      "58 / 144\n",
      "59 / 144\n",
      "60 / 144\n",
      "61 / 144\n",
      "62 / 144\n",
      "63 / 144\n",
      "64 / 144\n",
      "65 / 144\n",
      "66 / 144\n",
      "67 / 144\n",
      "68 / 144\n",
      "69 / 144\n",
      "70 / 144\n",
      "71 / 144\n",
      "72 / 144\n",
      "73 / 144\n",
      "74 / 144\n",
      "75 / 144\n",
      "76 / 144\n",
      "77 / 144\n",
      "78 / 144\n",
      "79 / 144\n",
      "80 / 144\n",
      "81 / 144\n",
      "82 / 144\n",
      "83 / 144\n",
      "84 / 144\n",
      "85 / 144\n",
      "86 / 144\n",
      "87 / 144\n",
      "88 / 144\n",
      "89 / 144\n",
      "90 / 144\n",
      "91 / 144\n",
      "92 / 144\n",
      "93 / 144\n",
      "94 / 144\n",
      "95 / 144\n",
      "96 / 144\n",
      "97 / 144\n",
      "98 / 144\n",
      "99 / 144\n",
      "100 / 144\n",
      "101 / 144\n",
      "102 / 144\n",
      "103 / 144\n",
      "104 / 144\n",
      "105 / 144\n",
      "106 / 144\n",
      "107 / 144\n",
      "108 / 144\n",
      "109 / 144\n",
      "110 / 144\n",
      "111 / 144\n",
      "112 / 144\n",
      "113 / 144\n",
      "114 / 144\n",
      "115 / 144\n",
      "116 / 144\n",
      "117 / 144\n",
      "118 / 144\n",
      "119 / 144\n",
      "120 / 144\n",
      "121 / 144\n",
      "122 / 144\n",
      "123 / 144\n",
      "124 / 144\n",
      "125 / 144\n",
      "126 / 144\n",
      "127 / 144\n",
      "128 / 144\n",
      "129 / 144\n",
      "130 / 144\n",
      "131 / 144\n",
      "132 / 144\n",
      "133 / 144\n",
      "134 / 144\n",
      "135 / 144\n",
      "136 / 144\n",
      "137 / 144\n",
      "138 / 144\n",
      "139 / 144\n",
      "140 / 144\n",
      "141 / 144\n",
      "142 / 144\n",
      "143 / 144\n"
     ]
    }
   ],
   "source": [
    "for i in range(len(not_in_curr)):\n",
    "    print(f\"{i} / {len(not_in_curr)}\")\n",
    "    #print(\"scraping\", not_in_curr[i][\"Player\"])\n",
    "    not_in_curr[i] = scrape_fifa_site(not_in_curr[i][\"url\"])"
   ]
  },
  {
   "cell_type": "code",
   "execution_count": 7,
   "metadata": {},
   "outputs": [],
   "source": [
    "all_players_curr = all_eng_ger + not_in_curr"
   ]
  },
  {
   "cell_type": "code",
   "execution_count": 12,
   "metadata": {},
   "outputs": [
    {
     "data": {
      "text/plain": [
       "3582"
      ]
     },
     "execution_count": 12,
     "metadata": {},
     "output_type": "execute_result"
    }
   ],
   "source": [
    "errs = 0\n",
    "for player in all_players_curr:\n",
    "    \n",
    "    try:\n",
    "        player[\"Market Value\"] = float(player[\"Market Value\"].replace(\".\",\"\"))\n",
    "  \n",
    "    except:\n",
    "        pass\n",
    "    \n",
    "    try:\n",
    "        player[\"Weekly Salary\"] = float(player[\"Weekly Salary\"].replace(\".\",\"\"))\n",
    "    except:\n",
    "        pass\n",
    "        errs += 1\n",
    "errs"
   ]
  },
  {
   "cell_type": "code",
   "execution_count": 13,
   "metadata": {},
   "outputs": [],
   "source": [
    "with open(\"curry2_eng_ger_players.json\", \"w\", encoding=\"utf8\") as file:\n",
    "    json.dump(all_players_curr, file, ensure_ascii=False)"
   ]
  },
  {
   "cell_type": "code",
   "execution_count": null,
   "metadata": {},
   "outputs": [],
   "source": []
  }
 ],
 "metadata": {
  "kernelspec": {
   "display_name": "Python 3",
   "language": "python",
   "name": "python3"
  },
  "language_info": {
   "codemirror_mode": {
    "name": "ipython",
    "version": 3
   },
   "file_extension": ".py",
   "mimetype": "text/x-python",
   "name": "python",
   "nbconvert_exporter": "python",
   "pygments_lexer": "ipython3",
   "version": "3.8.1"
  }
 },
 "nbformat": 4,
 "nbformat_minor": 4
}

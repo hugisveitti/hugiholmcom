{
 "cells": [
  {
   "cell_type": "code",
   "execution_count": 1,
   "id": "049205a2",
   "metadata": {},
   "outputs": [],
   "source": [
    "# scrape plants site ni.is"
   ]
  },
  {
   "cell_type": "code",
   "execution_count": 2,
   "id": "ea275c6a",
   "metadata": {},
   "outputs": [],
   "source": [
    "from lxml import html\n",
    "import requests\n",
    "import json\n",
    "from bs4 import BeautifulSoup\n",
    "from tqdm import tqdm"
   ]
  },
  {
   "cell_type": "code",
   "execution_count": 3,
   "id": "601b07a7",
   "metadata": {},
   "outputs": [],
   "source": [
    "url = \"http://www.ni.is/search/biota?f%5B0%5D=field_spm_tags%3A30911\"\n",
    "# http://www.ni.is/search/biota?page=1&f%5B0%5D=field_spm_tags%3A30911"
   ]
  },
  {
   "cell_type": "code",
   "execution_count": 4,
   "id": "cfe605c6",
   "metadata": {},
   "outputs": [],
   "source": [
    "def is_plant(el):\n",
    "    lis = el.find_all(\"li\")\n",
    "    for li in lis:\n",
    "        if li.text == \"Plantae\":\n",
    "            return True\n",
    "    return False\n"
   ]
  },
  {
   "cell_type": "code",
   "execution_count": 5,
   "id": "aa935baa",
   "metadata": {},
   "outputs": [],
   "source": [
    "def get_title(item):\n",
    "    return item.find_all(\"h2\", class_=\"node-title\")[0].text.split(\"\\n\")[0]\n",
    "    \n",
    "def get_img_url(item):\n",
    "    imgs = item.find_all(\"img\")\n",
    "    if len(imgs) > 0:\n",
    "        return imgs[0][\"src\"]\n",
    "    return None"
   ]
  },
  {
   "cell_type": "code",
   "execution_count": 6,
   "id": "f195af9c",
   "metadata": {},
   "outputs": [],
   "source": [
    "def get_html(url):\n",
    "    page = requests.get(url)\n",
    "    tree = html.fromstring(page.content)\n",
    "    return BeautifulSoup(page.content)\n"
   ]
  },
  {
   "cell_type": "code",
   "execution_count": 7,
   "id": "d320986c",
   "metadata": {},
   "outputs": [],
   "source": [
    "items = get_html(url)"
   ]
  },
  {
   "cell_type": "code",
   "execution_count": 8,
   "id": "e625c2e2",
   "metadata": {},
   "outputs": [],
   "source": [
    "items = items.find_all(\"div\",class_=\"article-gallery\")"
   ]
  },
  {
   "cell_type": "code",
   "execution_count": 9,
   "id": "7b9c3273",
   "metadata": {},
   "outputs": [],
   "source": [
    "def get_cate(item):\n",
    "    try:\n",
    "        li = item.find_all(\"div\", class_=\"item-list\")[0]\n",
    "        ul = item.find_all(\"li\")\n",
    "        return ul[2].find(\"a\").text\n",
    "    except:\n",
    "        return None\n",
    "def get_cate2(item):\n",
    "    try:\n",
    "        li = item.find_all(\"div\", class_=\"item-list\")[0]\n",
    "        ul = item.find_all(\"li\")\n",
    "        return ul[3].find(\"a\").text\n",
    "    except:\n",
    "        return None\n",
    "def get_cate3(item):\n",
    "    try:\n",
    "        li = item.find_all(\"div\", class_=\"item-list\")[0]\n",
    "        ul = item.find_all(\"li\")\n",
    "        return ul[4].find(\"a\").text\n",
    "    except:\n",
    "        return None"
   ]
  },
  {
   "cell_type": "code",
   "execution_count": 15,
   "id": "e30aff25",
   "metadata": {},
   "outputs": [
    {
     "data": {
      "text/plain": [
       "'Anseriformes'"
      ]
     },
     "execution_count": 15,
     "metadata": {},
     "output_type": "execute_result"
    }
   ],
   "source": [
    "get_cate3(items[3])"
   ]
  },
  {
   "cell_type": "code",
   "execution_count": null,
   "id": "c3533a13",
   "metadata": {},
   "outputs": [],
   "source": []
  },
  {
   "cell_type": "code",
   "execution_count": 16,
   "id": "bb9c7991",
   "metadata": {},
   "outputs": [],
   "source": [
    "def save_arr():\n",
    "    with open(\"plantdata.json\", \"w\", encoding=\"utf-8\") as f:\n",
    "        json.dump(arr, f, ensure_ascii=False)"
   ]
  },
  {
   "cell_type": "code",
   "execution_count": 17,
   "id": "9726650d",
   "metadata": {},
   "outputs": [
    {
     "name": "stdout",
     "output_type": "stream",
     "text": [
      "Getting page 0\n",
      "got page\n",
      "Got 47 plants\n",
      "Getting page 1\n",
      "got page\n",
      "Got 50 plants\n",
      "Getting page 2\n",
      "got page\n",
      "Got 50 plants\n",
      "Getting page 3\n",
      "got page\n",
      "Got 50 plants\n",
      "Getting page 4\n",
      "got page\n",
      "Got 50 plants\n",
      "Getting page 5\n",
      "got page\n",
      "Got 50 plants\n",
      "Getting page 6\n",
      "got page\n",
      "Got 50 plants\n",
      "Getting page 7\n",
      "got page\n",
      "Got 50 plants\n",
      "Getting page 8\n",
      "got page\n",
      "Got 50 plants\n",
      "Getting page 9\n",
      "got page\n",
      "Got 30 plants\n",
      "Getting page 10\n",
      "got page\n",
      "Got 0 plants\n",
      "Getting page 11\n",
      "got page\n",
      "Got 0 plants\n",
      "Getting page 12\n",
      "got page\n",
      "Got 0 plants\n",
      "Getting page 13\n",
      "got page\n",
      "Got 0 plants\n",
      "Getting page 14\n",
      "got page\n",
      "Got 0 plants\n",
      "Getting page 15\n",
      "got page\n",
      "Got 16 plants\n",
      "Getting page 16\n",
      "got page\n",
      "Got 50 plants\n",
      "Getting page 17\n",
      "got page\n",
      "Got 27 plants\n",
      "Getting page 18\n",
      "got page\n",
      "Got 0 plants\n",
      "Getting page 19\n",
      "got page\n",
      "Got 0 plants\n",
      "Getting page 20\n",
      "got page\n",
      "Got 0 plants\n",
      "Getting page 21\n",
      "got page\n",
      "Got 0 plants\n",
      "Getting page 22\n",
      "got page\n",
      "Got 0 plants\n",
      "Getting page 23\n",
      "got page\n",
      "Got 0 plants\n",
      "Getting page 24\n",
      "got page\n",
      "Got 0 plants\n",
      "Getting page 25\n",
      "got page\n",
      "Got 0 plants\n",
      "Getting page 26\n",
      "got page\n",
      "Got 1 plants\n"
     ]
    }
   ],
   "source": [
    "arr = []\n",
    "i = 0\n",
    "run = True\n",
    "while i <= 26 and run:\n",
    "    num_plants = 0\n",
    "    print(f\"Getting page {i}\")\n",
    "    \n",
    "    url = \"http://www.ni.is/search/biota?f%5B0%5D=field_spm_tags%3A30911\"\n",
    "    if i > 0:\n",
    "        url = f\"http://www.ni.is/search/biota?page={i}&f%5B0%5D=field_spm_tags%3A30911\"\n",
    "    try:\n",
    "        i += 1\n",
    "        soup = get_html(url)\n",
    "        print(\"got page\")\n",
    "        items = soup.find_all(\"div\",class_=\"article-gallery\")\n",
    "        for item in items:\n",
    "            if is_plant(item):\n",
    "                num_plants += 1\n",
    "                full_name = get_title(item)\n",
    "                name = full_name.split(\"(\")[0][:-1]\n",
    "                img_url = get_img_url(item)\n",
    "                category = get_cate(item)\n",
    "                category2 = get_cate2(item)\n",
    "                category3 = get_cate3(item)\n",
    "                if img_url != None:\n",
    "                    arr.append({\n",
    "                        \"name\":name,\n",
    "                        \"imgUrl\":img_url,\n",
    "                        \"fullName\":full_name,\n",
    "                        \"category\": category,\n",
    "                        \"category2\": category2,\n",
    "                        \"category3\": category3,\n",
    "                    })\n",
    "        print(f\"Got {num_plants} plants\")\n",
    "        save_arr()\n",
    "    except:\n",
    "        run = False\n",
    "        print(\"Failed stopping\")\n",
    "        "
   ]
  },
  {
   "cell_type": "code",
   "execution_count": 32,
   "id": "d5644f8d",
   "metadata": {},
   "outputs": [
    {
     "data": {
      "text/plain": [
       "458"
      ]
     },
     "execution_count": 32,
     "metadata": {},
     "output_type": "execute_result"
    }
   ],
   "source": [
    "len(arr)"
   ]
  },
  {
   "cell_type": "code",
   "execution_count": 31,
   "id": "bf1976b8",
   "metadata": {},
   "outputs": [],
   "source": [
    "len(arr2)\n",
    "arr = arr2"
   ]
  },
  {
   "cell_type": "code",
   "execution_count": 33,
   "id": "31dceec8",
   "metadata": {},
   "outputs": [],
   "source": [
    "with open(\"./bird-game-client/src/plantdata.json\", \"w\", encoding=\"utf-8\") as f:\n",
    "    json.dump(arr,f, ensure_ascii=False)"
   ]
  },
  {
   "cell_type": "code",
   "execution_count": 34,
   "id": "781437a5",
   "metadata": {},
   "outputs": [
    {
     "data": {
      "text/plain": [
       "{'name': 'Vallhumall',\n",
       " 'imgUrl': 'https://myndir.ni.is/floraisl/hapl/achilmil2b.jpg',\n",
       " 'fullName': 'Vallhumall (Achillea millefolium)',\n",
       " 'category': 'Tracheophyta',\n",
       " 'category2': 'Magnoliopsida',\n",
       " 'category3': 'Asteraceae'}"
      ]
     },
     "execution_count": 34,
     "metadata": {},
     "output_type": "execute_result"
    }
   ],
   "source": [
    "arr[0]"
   ]
  },
  {
   "cell_type": "code",
   "execution_count": 37,
   "id": "9435ffb7",
   "metadata": {},
   "outputs": [],
   "source": [
    "cates = {}\n",
    "cates2 = {}\n",
    "cates3 = {}\n",
    "for item in arr:\n",
    "    if item[\"category\"] not in cates:\n",
    "        cates[item[\"category\"]] = 1\n",
    "    else:\n",
    "        cates[item[\"category\"]] += 1\n",
    "        \n",
    "    if item[\"category2\"] not in cates2:\n",
    "        cates2[item[\"category2\"]] = 1\n",
    "    else:\n",
    "        cates2[item[\"category2\"]] += 1\n",
    "        \n",
    "    if item[\"category3\"] not in cates3:\n",
    "        cates3[item[\"category3\"]] = 1\n",
    "    else:\n",
    "        cates3[item[\"category3\"]] += 1"
   ]
  },
  {
   "cell_type": "code",
   "execution_count": 38,
   "id": "91d4a235",
   "metadata": {},
   "outputs": [
    {
     "data": {
      "text/plain": [
       "{'Tracheophyta': 405, 'Bryophyta': 47, 'Marchantiophyta': 6}"
      ]
     },
     "execution_count": 38,
     "metadata": {},
     "output_type": "execute_result"
    }
   ],
   "source": [
    "cates"
   ]
  },
  {
   "cell_type": "code",
   "execution_count": 39,
   "id": "5863805d",
   "metadata": {},
   "outputs": [
    {
     "data": {
      "text/plain": [
       "{'Magnoliopsida': 244,\n",
       " 'Liliopsida': 126,\n",
       " 'Polypodiopsida': 15,\n",
       " 'Psilotopsida': 5,\n",
       " 'Lycopodiopsida': 6,\n",
       " 'Equisetopsida': 7,\n",
       " 'Pinopsida': 2,\n",
       " 'Andreaeopsida': 1,\n",
       " 'Marchantiopsida': 6,\n",
       " 'Bryopsida': 40,\n",
       " 'Polytrichopsida': 4,\n",
       " 'Sphagnopsida': 2}"
      ]
     },
     "execution_count": 39,
     "metadata": {},
     "output_type": "execute_result"
    }
   ],
   "source": [
    "cates2"
   ]
  },
  {
   "cell_type": "code",
   "execution_count": 40,
   "id": "541b9255",
   "metadata": {},
   "outputs": [
    {
     "data": {
      "text/plain": [
       "{'Asteraceae': 24,\n",
       " 'Poaceae': 41,\n",
       " 'Lamiaceae': 7,\n",
       " 'Rosaceae': 19,\n",
       " 'Amaryllidaceae': 1,\n",
       " 'Ericaceae': 13,\n",
       " 'Apiaceae': 6,\n",
       " 'Fabaceae': 10,\n",
       " 'Brassicaceae': 15,\n",
       " 'Caryophyllaceae': 26,\n",
       " 'Plumbaginaceae': 1,\n",
       " 'Aspleniaceae': 3,\n",
       " 'Athyriaceae': 1,\n",
       " 'Amaranthaceae': 1,\n",
       " 'Orobanchaceae': 6,\n",
       " 'Ranunculaceae': 8,\n",
       " 'Betulaceae': 2,\n",
       " 'Polygonaceae': 9,\n",
       " 'Blechnaceae': 1,\n",
       " 'Ophioglossaceae': 5,\n",
       " 'Plantaginaceae': 15,\n",
       " 'Campanulaceae': 2,\n",
       " 'Cyperaceae': 50,\n",
       " 'Orchidaceae': 6,\n",
       " 'Diapensiaceae': 1,\n",
       " 'Lycopodiaceae': 4,\n",
       " 'Droseraceae': 1,\n",
       " 'Dryopteridaceae': 3,\n",
       " 'Onagraceae': 9,\n",
       " 'Equisetaceae': 7,\n",
       " 'Gentianaceae': 7,\n",
       " 'Pteridaceae': 1,\n",
       " 'Cystopteridaceae': 2,\n",
       " 'Rubiaceae': 5,\n",
       " 'Geraniaceae': 1,\n",
       " 'Primulaceae': 3,\n",
       " 'Araliaceae': 1,\n",
       " 'Hymenophyllaceae': 1,\n",
       " 'Isoetaceae': 1,\n",
       " 'Juncaceae': 16,\n",
       " 'Cupressaceae': 1,\n",
       " 'Caprifoliaceae': 3,\n",
       " 'Scrophulariaceae': 1,\n",
       " 'Linaceae': 1,\n",
       " 'Menyanthaceae': 1,\n",
       " 'Boraginaceae': 5,\n",
       " 'Montiaceae': 1,\n",
       " 'Haloragaceae': 2,\n",
       " 'Oxalidaceae': 1,\n",
       " 'Papaveraceae': 2,\n",
       " 'Melanthiaceae': 1,\n",
       " 'Celastraceae': 1,\n",
       " 'Thelypteridaceae': 1,\n",
       " 'Pinaceae': 1,\n",
       " 'Lentibulariaceae': 2,\n",
       " 'Polypodiaceae': 1,\n",
       " 'Salicaceae': 8,\n",
       " 'Potamogetonaceae': 6,\n",
       " 'Crassulaceae': 5,\n",
       " 'Ruppiaceae': 1,\n",
       " 'Saxifragaceae': 13,\n",
       " 'Selaginellaceae': 1,\n",
       " 'Typhaceae': 1,\n",
       " 'Tofieldiaceae': 1,\n",
       " 'Juncaginaceae': 1,\n",
       " 'Urticaceae': 1,\n",
       " 'Violaceae': 5,\n",
       " 'Woodsiaceae': 1,\n",
       " 'Zosteraceae': 1,\n",
       " 'Andreaea rupestris': 1,\n",
       " 'Anthelia juratzkana': 1,\n",
       " 'Aulacomnium palustre': 1,\n",
       " 'Bartramia ithyphylla': 1,\n",
       " 'Brachythecium rivulare': 1,\n",
       " 'Bryum argenteum': 1,\n",
       " 'Calliergonella cuspidata': 1,\n",
       " 'Climacium dendroides': 1,\n",
       " 'Conostomum tetragonum': 1,\n",
       " 'Dicranoweisia crispula': 1,\n",
       " 'Distichium capillaceum': 1,\n",
       " 'Encalypta rhaptocarpa': 1,\n",
       " 'Fontinalis antipyretica': 1,\n",
       " 'Grimmia torquata': 1,\n",
       " 'Gymnomitrion corallioides': 1,\n",
       " 'Homalothecium sericeum': 1,\n",
       " 'Hylocomium splendens': 1,\n",
       " 'Hypnum revolutum': 1,\n",
       " 'Kiaeria falcata': 1,\n",
       " 'Kiaeria starkei': 1,\n",
       " 'Lescuraea radicosa': 1,\n",
       " 'Marchantia polymorpha': 1,\n",
       " 'Philonotis fontana': 1,\n",
       " 'Pohlia cruda': 1,\n",
       " 'Pohlia wahlenbergii': 1,\n",
       " 'Polytrichum commune': 1,\n",
       " 'Polytrichum juniperinum': 1,\n",
       " 'Polytrichum piliferum': 1,\n",
       " 'Polytrichum sexangulare': 1,\n",
       " 'Preissia quadrata': 1,\n",
       " 'Ptilidium ciliare': 1,\n",
       " 'Racomitrium aciculare': 1,\n",
       " 'Racomitrium canescens': 1,\n",
       " 'Racomitrium ericoides': 1,\n",
       " 'Racomitrium lanuginosum': 1,\n",
       " 'Rhizomnium magnifolium': 1,\n",
       " 'Rhytidiadelphus loreus': 1,\n",
       " 'Rhytidiadelphus squarrosus': 1,\n",
       " 'Rhytidiadelphus triquetrus': 1,\n",
       " 'Rhytidium rugosum': 1,\n",
       " 'Sanionia uncinata': 1,\n",
       " 'Scapania undulata': 1,\n",
       " 'Schistidium maritimum': 1,\n",
       " 'Scorpidium revolvens': 1,\n",
       " 'Scorpidium scorpioides': 1,\n",
       " 'Sphagnum teres': 1,\n",
       " 'Sphagnum warnstorfii': 1,\n",
       " 'Splachnum vasculosum': 1,\n",
       " 'Syntrichia ruralis': 1,\n",
       " 'Timmia austriaca': 1,\n",
       " 'Tomentypnum nitens': 1,\n",
       " 'Tortella tortuosa': 1,\n",
       " 'Tortula subulata': 1}"
      ]
     },
     "execution_count": 40,
     "metadata": {},
     "output_type": "execute_result"
    }
   ],
   "source": [
    "cates3"
   ]
  },
  {
   "cell_type": "code",
   "execution_count": 42,
   "id": "f826e402",
   "metadata": {},
   "outputs": [],
   "source": [
    "tra = []\n",
    "for item in arr:\n",
    "    if item[\"category\"] == \"Tracheophyta\":\n",
    "        tra.append(item)"
   ]
  },
  {
   "cell_type": "code",
   "execution_count": 48,
   "id": "ad36f477",
   "metadata": {},
   "outputs": [],
   "source": [
    "cat = {}\n",
    "\n",
    "for item in arr:\n",
    "    c1 = item[\"category\"]\n",
    "    c2 = item[\"category2\"]\n",
    "    c3 = item[\"category3\"]\n",
    "        \n",
    "    if c1 not in cat:\n",
    "        cat[c1] = {}\n",
    "    if c2 not in cat[c1]:\n",
    "        cat[c1][c2] = []\n",
    "    if c3 not in cat[c1][c2]:\n",
    "        cat[c1][c2].append(c3)"
   ]
  },
  {
   "cell_type": "code",
   "execution_count": 49,
   "id": "f0198123",
   "metadata": {},
   "outputs": [
    {
     "data": {
      "text/plain": [
       "{'Tracheophyta': {'Magnoliopsida': ['Asteraceae',\n",
       "   'Lamiaceae',\n",
       "   'Rosaceae',\n",
       "   'Ericaceae',\n",
       "   'Apiaceae',\n",
       "   'Fabaceae',\n",
       "   'Brassicaceae',\n",
       "   'Caryophyllaceae',\n",
       "   'Plumbaginaceae',\n",
       "   'Amaranthaceae',\n",
       "   'Orobanchaceae',\n",
       "   'Ranunculaceae',\n",
       "   'Betulaceae',\n",
       "   'Polygonaceae',\n",
       "   'Plantaginaceae',\n",
       "   'Campanulaceae',\n",
       "   'Diapensiaceae',\n",
       "   'Droseraceae',\n",
       "   'Onagraceae',\n",
       "   'Gentianaceae',\n",
       "   'Rubiaceae',\n",
       "   'Geraniaceae',\n",
       "   'Primulaceae',\n",
       "   'Araliaceae',\n",
       "   'Caprifoliaceae',\n",
       "   'Scrophulariaceae',\n",
       "   'Linaceae',\n",
       "   'Menyanthaceae',\n",
       "   'Boraginaceae',\n",
       "   'Montiaceae',\n",
       "   'Haloragaceae',\n",
       "   'Oxalidaceae',\n",
       "   'Papaveraceae',\n",
       "   'Celastraceae',\n",
       "   'Lentibulariaceae',\n",
       "   'Salicaceae',\n",
       "   'Crassulaceae',\n",
       "   'Saxifragaceae',\n",
       "   'Urticaceae',\n",
       "   'Violaceae'],\n",
       "  'Liliopsida': ['Poaceae',\n",
       "   'Amaryllidaceae',\n",
       "   'Cyperaceae',\n",
       "   'Orchidaceae',\n",
       "   'Juncaceae',\n",
       "   'Melanthiaceae',\n",
       "   'Potamogetonaceae',\n",
       "   'Ruppiaceae',\n",
       "   'Typhaceae',\n",
       "   'Tofieldiaceae',\n",
       "   'Juncaginaceae',\n",
       "   'Zosteraceae'],\n",
       "  'Polypodiopsida': ['Aspleniaceae',\n",
       "   'Athyriaceae',\n",
       "   'Blechnaceae',\n",
       "   'Dryopteridaceae',\n",
       "   'Pteridaceae',\n",
       "   'Cystopteridaceae',\n",
       "   'Hymenophyllaceae',\n",
       "   'Thelypteridaceae',\n",
       "   'Polypodiaceae',\n",
       "   'Woodsiaceae'],\n",
       "  'Psilotopsida': ['Ophioglossaceae'],\n",
       "  'Lycopodiopsida': ['Lycopodiaceae', 'Isoetaceae', 'Selaginellaceae'],\n",
       "  'Equisetopsida': ['Equisetaceae'],\n",
       "  'Pinopsida': ['Cupressaceae', 'Pinaceae']},\n",
       " 'Bryophyta': {'Andreaeopsida': ['Andreaea rupestris'],\n",
       "  'Bryopsida': ['Aulacomnium palustre',\n",
       "   'Bartramia ithyphylla',\n",
       "   'Brachythecium rivulare',\n",
       "   'Bryum argenteum',\n",
       "   'Calliergonella cuspidata',\n",
       "   'Climacium dendroides',\n",
       "   'Conostomum tetragonum',\n",
       "   'Dicranoweisia crispula',\n",
       "   'Distichium capillaceum',\n",
       "   'Encalypta rhaptocarpa',\n",
       "   'Fontinalis antipyretica',\n",
       "   'Grimmia torquata',\n",
       "   'Homalothecium sericeum',\n",
       "   'Hylocomium splendens',\n",
       "   'Hypnum revolutum',\n",
       "   'Kiaeria falcata',\n",
       "   'Kiaeria starkei',\n",
       "   'Lescuraea radicosa',\n",
       "   'Philonotis fontana',\n",
       "   'Pohlia cruda',\n",
       "   'Pohlia wahlenbergii',\n",
       "   'Racomitrium aciculare',\n",
       "   'Racomitrium canescens',\n",
       "   'Racomitrium ericoides',\n",
       "   'Racomitrium lanuginosum',\n",
       "   'Rhizomnium magnifolium',\n",
       "   'Rhytidiadelphus loreus',\n",
       "   'Rhytidiadelphus squarrosus',\n",
       "   'Rhytidiadelphus triquetrus',\n",
       "   'Rhytidium rugosum',\n",
       "   'Sanionia uncinata',\n",
       "   'Schistidium maritimum',\n",
       "   'Scorpidium revolvens',\n",
       "   'Scorpidium scorpioides',\n",
       "   'Splachnum vasculosum',\n",
       "   'Syntrichia ruralis',\n",
       "   'Timmia austriaca',\n",
       "   'Tomentypnum nitens',\n",
       "   'Tortella tortuosa',\n",
       "   'Tortula subulata'],\n",
       "  'Polytrichopsida': ['Polytrichum commune',\n",
       "   'Polytrichum juniperinum',\n",
       "   'Polytrichum piliferum',\n",
       "   'Polytrichum sexangulare'],\n",
       "  'Sphagnopsida': ['Sphagnum teres', 'Sphagnum warnstorfii']},\n",
       " 'Marchantiophyta': {'Marchantiopsida': ['Anthelia juratzkana',\n",
       "   'Gymnomitrion corallioides',\n",
       "   'Marchantia polymorpha',\n",
       "   'Preissia quadrata',\n",
       "   'Ptilidium ciliare',\n",
       "   'Scapania undulata']}}"
      ]
     },
     "execution_count": 49,
     "metadata": {},
     "output_type": "execute_result"
    }
   ],
   "source": [
    "cat"
   ]
  },
  {
   "cell_type": "code",
   "execution_count": null,
   "id": "16683df1",
   "metadata": {},
   "outputs": [],
   "source": []
  }
 ],
 "metadata": {
  "kernelspec": {
   "display_name": "Python 3",
   "language": "python",
   "name": "python3"
  },
  "language_info": {
   "codemirror_mode": {
    "name": "ipython",
    "version": 3
   },
   "file_extension": ".py",
   "mimetype": "text/x-python",
   "name": "python",
   "nbconvert_exporter": "python",
   "pygments_lexer": "ipython3",
   "version": "3.8.5"
  }
 },
 "nbformat": 4,
 "nbformat_minor": 5
}

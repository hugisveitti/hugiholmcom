{
 "cells": [
  {
   "cell_type": "code",
   "execution_count": 1,
   "id": "049205a2",
   "metadata": {},
   "outputs": [],
   "source": [
    "# scrape plants site ni.is"
   ]
  },
  {
   "cell_type": "code",
   "execution_count": 143,
   "id": "ea275c6a",
   "metadata": {},
   "outputs": [],
   "source": [
    "from lxml import html\n",
    "import requests\n",
    "import json\n",
    "from bs4 import BeautifulSoup\n",
    "from tqdm import tqdm"
   ]
  },
  {
   "cell_type": "code",
   "execution_count": 144,
   "id": "601b07a7",
   "metadata": {},
   "outputs": [],
   "source": [
    "url = \"http://www.ni.is/search/biota?f%5B0%5D=field_spm_tags%3A30911\"\n",
    "# http://www.ni.is/search/biota?page=1&f%5B0%5D=field_spm_tags%3A30911"
   ]
  },
  {
   "cell_type": "code",
   "execution_count": 145,
   "id": "cfe605c6",
   "metadata": {},
   "outputs": [],
   "source": [
    "def is_plant(el):\n",
    "    lis = el.find_all(\"li\")\n",
    "    for li in lis:\n",
    "        if li.text == \"Plantae\":\n",
    "            return True\n",
    "    return False\n"
   ]
  },
  {
   "cell_type": "code",
   "execution_count": 146,
   "id": "aa935baa",
   "metadata": {},
   "outputs": [],
   "source": [
    "def get_title(item):\n",
    "    return item.find_all(\"h2\", class_=\"node-title\")[0].text.split(\"\\n\")[0]\n",
    "    \n",
    "def get_img_url(item):\n",
    "    imgs = item.find_all(\"img\")\n",
    "    if len(imgs) > 0:\n",
    "        return imgs[0][\"src\"]\n",
    "    return None"
   ]
  },
  {
   "cell_type": "code",
   "execution_count": 147,
   "id": "c3533a13",
   "metadata": {},
   "outputs": [],
   "source": [
    "arr = []\n"
   ]
  },
  {
   "cell_type": "code",
   "execution_count": 148,
   "id": "9726650d",
   "metadata": {},
   "outputs": [
    {
     "name": "stdout",
     "output_type": "stream",
     "text": [
      "Getting page 0\n",
      "Getting page http://www.ni.is/search/biota?f%5B0%5D=field_spm_tags%3A30911\n",
      "Got page\n",
      "Getting page 1\n",
      "Getting page http://www.ni.is/search/biota?page=1&f%5B0%5D=field_spm_tags%3A30911\n",
      "Got page\n",
      "Getting page 2\n",
      "Getting page http://www.ni.is/search/biota?page=2&f%5B0%5D=field_spm_tags%3A30911\n",
      "Got page\n",
      "Getting page 3\n",
      "Getting page http://www.ni.is/search/biota?page=3&f%5B0%5D=field_spm_tags%3A30911\n",
      "Got page\n",
      "Getting page 4\n",
      "Getting page http://www.ni.is/search/biota?page=4&f%5B0%5D=field_spm_tags%3A30911\n",
      "Got page\n",
      "Getting page 5\n",
      "Getting page http://www.ni.is/search/biota?page=5&f%5B0%5D=field_spm_tags%3A30911\n",
      "Got page\n",
      "Getting page 6\n",
      "Getting page http://www.ni.is/search/biota?page=6&f%5B0%5D=field_spm_tags%3A30911\n",
      "Got page\n",
      "Getting page 7\n",
      "Getting page http://www.ni.is/search/biota?page=7&f%5B0%5D=field_spm_tags%3A30911\n",
      "Got page\n",
      "Getting page 8\n",
      "Getting page http://www.ni.is/search/biota?page=8&f%5B0%5D=field_spm_tags%3A30911\n",
      "Got page\n",
      "Getting page 9\n",
      "Getting page http://www.ni.is/search/biota?page=9&f%5B0%5D=field_spm_tags%3A30911\n",
      "Got page\n",
      "Getting page 10\n",
      "Getting page http://www.ni.is/search/biota?page=10&f%5B0%5D=field_spm_tags%3A30911\n",
      "Got page\n",
      "Getting page 11\n",
      "Getting page http://www.ni.is/search/biota?page=11&f%5B0%5D=field_spm_tags%3A30911\n",
      "Got page\n",
      "Getting page 12\n",
      "Getting page http://www.ni.is/search/biota?page=12&f%5B0%5D=field_spm_tags%3A30911\n",
      "Got page\n",
      "Getting page 13\n",
      "Getting page http://www.ni.is/search/biota?page=13&f%5B0%5D=field_spm_tags%3A30911\n",
      "Got page\n",
      "Getting page 14\n",
      "Getting page http://www.ni.is/search/biota?page=14&f%5B0%5D=field_spm_tags%3A30911\n",
      "Got page\n",
      "Getting page 15\n",
      "Getting page http://www.ni.is/search/biota?page=15&f%5B0%5D=field_spm_tags%3A30911\n",
      "Got page\n",
      "Getting page 16\n",
      "Getting page http://www.ni.is/search/biota?page=16&f%5B0%5D=field_spm_tags%3A30911\n",
      "Got page\n",
      "Getting page 17\n",
      "Getting page http://www.ni.is/search/biota?page=17&f%5B0%5D=field_spm_tags%3A30911\n",
      "Got page\n",
      "Getting page 18\n",
      "Getting page http://www.ni.is/search/biota?page=18&f%5B0%5D=field_spm_tags%3A30911\n",
      "Got page\n",
      "Getting page 19\n",
      "Getting page http://www.ni.is/search/biota?page=19&f%5B0%5D=field_spm_tags%3A30911\n",
      "Got page\n",
      "Getting page 20\n",
      "Getting page http://www.ni.is/search/biota?page=20&f%5B0%5D=field_spm_tags%3A30911\n",
      "Got page\n",
      "Getting page 21\n",
      "Getting page http://www.ni.is/search/biota?page=21&f%5B0%5D=field_spm_tags%3A30911\n",
      "Got page\n",
      "Getting page 22\n",
      "Getting page http://www.ni.is/search/biota?page=22&f%5B0%5D=field_spm_tags%3A30911\n",
      "Got page\n",
      "Getting page 23\n",
      "Getting page http://www.ni.is/search/biota?page=23&f%5B0%5D=field_spm_tags%3A30911\n",
      "Got page\n",
      "Getting page 24\n",
      "Getting page http://www.ni.is/search/biota?page=24&f%5B0%5D=field_spm_tags%3A30911\n",
      "Got page\n",
      "Getting page 25\n",
      "Getting page http://www.ni.is/search/biota?page=25&f%5B0%5D=field_spm_tags%3A30911\n",
      "Got page\n",
      "Getting page 26\n",
      "Getting page http://www.ni.is/search/biota?page=26&f%5B0%5D=field_spm_tags%3A30911\n",
      "Got page\n",
      "Getting page 27\n",
      "Getting page http://www.ni.is/search/biota?page=27&f%5B0%5D=field_spm_tags%3A30911\n",
      "Got page\n",
      "Getting page 28\n",
      "Getting page http://www.ni.is/search/biota?page=28&f%5B0%5D=field_spm_tags%3A30911\n",
      "Got page\n",
      "Getting page 29\n",
      "Getting page http://www.ni.is/search/biota?page=29&f%5B0%5D=field_spm_tags%3A30911\n",
      "Got page\n",
      "Getting page 30\n",
      "Getting page http://www.ni.is/search/biota?page=30&f%5B0%5D=field_spm_tags%3A30911\n",
      "Got page\n",
      "Getting page 31\n",
      "Getting page http://www.ni.is/search/biota?page=31&f%5B0%5D=field_spm_tags%3A30911\n",
      "Got page\n",
      "Getting page 32\n",
      "Getting page http://www.ni.is/search/biota?page=32&f%5B0%5D=field_spm_tags%3A30911\n",
      "Got page\n",
      "Getting page 33\n",
      "Getting page http://www.ni.is/search/biota?page=33&f%5B0%5D=field_spm_tags%3A30911\n",
      "Got page\n",
      "Getting page 34\n",
      "Getting page http://www.ni.is/search/biota?page=34&f%5B0%5D=field_spm_tags%3A30911\n",
      "Got page\n",
      "Getting page 35\n",
      "Getting page http://www.ni.is/search/biota?page=35&f%5B0%5D=field_spm_tags%3A30911\n",
      "Got page\n",
      "Getting page 36\n",
      "Getting page http://www.ni.is/search/biota?page=36&f%5B0%5D=field_spm_tags%3A30911\n"
     ]
    }
   ],
   "source": [
    "i = 0\n",
    "run = True\n",
    "while run:\n",
    "    print(f\"Getting page {i}\")\n",
    "    url = \"http://www.ni.is/search/biota?f%5B0%5D=field_spm_tags%3A30911\"\n",
    "    if i > 0:\n",
    "        url = f\"http://www.ni.is/search/biota?page={i}&f%5B0%5D=field_spm_tags%3A30911\"\n",
    "    try:\n",
    "        print(\"Getting page\", url)\n",
    "        page = requests.get(url)\n",
    "        print(\"Got page\")\n",
    "        tree = html.fromstring(page.content)\n",
    "        soup = BeautifulSoup(page.content)\n",
    "        items = soup.find_all(\"div\",class_=\"article-gallery\")\n",
    "        for item in items:\n",
    "            if is_plant(item):\n",
    "                full_name = get_title(item)\n",
    "                name = full_name.split(\"(\")[0][:-1]\n",
    "                img_url = get_img_url(item)\n",
    "                if img_url != None:\n",
    "                    arr.append({\n",
    "                        \"name\":name,\n",
    "                        \"imgUrl\":img_url,\n",
    "                        \"fullName\":full_name,\n",
    "                    })\n",
    "        i += 1\n",
    "    except:\n",
    "        run = False"
   ]
  },
  {
   "cell_type": "code",
   "execution_count": 150,
   "id": "d5644f8d",
   "metadata": {},
   "outputs": [
    {
     "data": {
      "text/plain": [
       "458"
      ]
     },
     "execution_count": 150,
     "metadata": {},
     "output_type": "execute_result"
    }
   ],
   "source": [
    "len(arr)"
   ]
  },
  {
   "cell_type": "code",
   "execution_count": 154,
   "id": "31dceec8",
   "metadata": {},
   "outputs": [],
   "source": [
    "with open(\"./bird-game-client/src/plantdata.json\", \"w\", encoding=\"utf-8\") as f:\n",
    "    json.dump(arr,f, ensure_ascii=False)"
   ]
  },
  {
   "cell_type": "code",
   "execution_count": null,
   "id": "781437a5",
   "metadata": {},
   "outputs": [],
   "source": []
  }
 ],
 "metadata": {
  "kernelspec": {
   "display_name": "Python 3",
   "language": "python",
   "name": "python3"
  },
  "language_info": {
   "codemirror_mode": {
    "name": "ipython",
    "version": 3
   },
   "file_extension": ".py",
   "mimetype": "text/x-python",
   "name": "python",
   "nbconvert_exporter": "python",
   "pygments_lexer": "ipython3",
   "version": "3.8.5"
  }
 },
 "nbformat": 4,
 "nbformat_minor": 5
}

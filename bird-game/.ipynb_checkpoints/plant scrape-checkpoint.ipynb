{
 "cells": [
  {
   "cell_type": "code",
   "execution_count": 1,
   "id": "049205a2",
   "metadata": {},
   "outputs": [],
   "source": [
    "# scrape plants site ni.is"
   ]
  },
  {
   "cell_type": "code",
   "execution_count": 2,
   "id": "ea275c6a",
   "metadata": {},
   "outputs": [],
   "source": [
    "from lxml import html\n",
    "import requests\n",
    "import json\n",
    "from bs4 import BeautifulSoup\n",
    "from tqdm import tqdm"
   ]
  },
  {
   "cell_type": "code",
   "execution_count": 3,
   "id": "601b07a7",
   "metadata": {},
   "outputs": [],
   "source": [
    "url = \"http://www.ni.is/search/biota?f%5B0%5D=field_spm_tags%3A30911\"\n",
    "# http://www.ni.is/search/biota?page=1&f%5B0%5D=field_spm_tags%3A30911"
   ]
  },
  {
   "cell_type": "code",
   "execution_count": 4,
   "id": "cfe605c6",
   "metadata": {},
   "outputs": [],
   "source": [
    "def is_plant(el):\n",
    "    lis = el.find_all(\"li\")\n",
    "    for li in lis:\n",
    "        if li.text == \"Plantae\":\n",
    "            return True\n",
    "    return False\n"
   ]
  },
  {
   "cell_type": "code",
   "execution_count": 5,
   "id": "aa935baa",
   "metadata": {},
   "outputs": [],
   "source": [
    "def get_title(item):\n",
    "    return item.find_all(\"h2\", class_=\"node-title\")[0].text.split(\"\\n\")[0]\n",
    "    \n",
    "def get_img_url(item):\n",
    "    imgs = item.find_all(\"img\")\n",
    "    if len(imgs) > 0:\n",
    "        return imgs[0][\"src\"]\n",
    "    return None"
   ]
  },
  {
   "cell_type": "code",
   "execution_count": 6,
   "id": "f195af9c",
   "metadata": {},
   "outputs": [],
   "source": [
    "def get_html(url):\n",
    "    page = requests.get(url)\n",
    "    tree = html.fromstring(page.content)\n",
    "    return BeautifulSoup(page.content)\n"
   ]
  },
  {
   "cell_type": "code",
   "execution_count": 7,
   "id": "d320986c",
   "metadata": {},
   "outputs": [],
   "source": [
    "items = get_html(url)"
   ]
  },
  {
   "cell_type": "code",
   "execution_count": 8,
   "id": "e625c2e2",
   "metadata": {},
   "outputs": [],
   "source": [
    "items = items.find_all(\"div\",class_=\"article-gallery\")"
   ]
  },
  {
   "cell_type": "code",
   "execution_count": 9,
   "id": "7b9c3273",
   "metadata": {},
   "outputs": [],
   "source": [
    "def get_cate(item):\n",
    "    try:\n",
    "        li = item.find_all(\"div\", class_=\"item-list\")[0]\n",
    "        ul = item.find_all(\"li\")\n",
    "        return ul[2].find(\"a\").text\n",
    "    except:\n",
    "        return None\n",
    "def get_cate2(item):\n",
    "    try:\n",
    "        li = item.find_all(\"div\", class_=\"item-list\")[0]\n",
    "        ul = item.find_all(\"li\")\n",
    "        return ul[3].find(\"a\").text\n",
    "    except:\n",
    "        return None\n",
    "def get_cate3(item):\n",
    "    try:\n",
    "        li = item.find_all(\"div\", class_=\"item-list\")[0]\n",
    "        ul = item.find_all(\"li\")\n",
    "        return ul[4].find(\"a\").text\n",
    "    except:\n",
    "        return None"
   ]
  },
  {
   "cell_type": "code",
   "execution_count": 10,
   "id": "e30aff25",
   "metadata": {},
   "outputs": [
    {
     "data": {
      "text/plain": [
       "'Tracheophyta'"
      ]
     },
     "execution_count": 10,
     "metadata": {},
     "output_type": "execute_result"
    }
   ],
   "source": [
    "get_cate(items[3])"
   ]
  },
  {
   "cell_type": "code",
   "execution_count": 21,
   "id": "c3533a13",
   "metadata": {},
   "outputs": [],
   "source": []
  },
  {
   "cell_type": "code",
   "execution_count": 22,
   "id": "bb9c7991",
   "metadata": {},
   "outputs": [],
   "source": [
    "def save_arr():\n",
    "    with open(\"plantdata.json\", \"w\", encoding=\"utf-8\") as f:\n",
    "        json.dump(arr, f, ensure_ascii=False)"
   ]
  },
  {
   "cell_type": "code",
   "execution_count": 23,
   "id": "14a1d321",
   "metadata": {},
   "outputs": [
    {
     "data": {
      "text/plain": [
       "[]"
      ]
     },
     "execution_count": 23,
     "metadata": {},
     "output_type": "execute_result"
    }
   ],
   "source": [
    "arr"
   ]
  },
  {
   "cell_type": "code",
   "execution_count": null,
   "id": "9726650d",
   "metadata": {},
   "outputs": [
    {
     "name": "stdout",
     "output_type": "stream",
     "text": [
      "Getting page 0\n",
      "got page\n",
      "Got 47 number of plants\n",
      "Getting page 1\n",
      "got page\n",
      "Got 50 number of plants\n",
      "Getting page 2\n",
      "got page\n",
      "Got 50 number of plants\n",
      "Getting page 3\n"
     ]
    }
   ],
   "source": [
    "arr = []\n",
    "i = 0\n",
    "run = True\n",
    "while i <= 36 and run:\n",
    "    num_plants = 0\n",
    "    print(f\"Getting page {i}\")\n",
    "    \n",
    "    url = \"http://www.ni.is/search/biota?f%5B0%5D=field_spm_tags%3A30911\"\n",
    "    if i > 0:\n",
    "        url = f\"http://www.ni.is/search/biota?page={i}&f%5B0%5D=field_spm_tags%3A30911\"\n",
    "    try:\n",
    "        i += 1\n",
    "        soup = get_html(url)\n",
    "        print(\"got page\")\n",
    "        items = soup.find_all(\"div\",class_=\"article-gallery\")\n",
    "        for item in items:\n",
    "            if is_plant(item):\n",
    "                num_plants += 1\n",
    "                full_name = get_title(item)\n",
    "                name = full_name.split(\"(\")[0][:-1]\n",
    "                img_url = get_img_url(item)\n",
    "                category = get_cate(item)\n",
    "                category2 = get_cate(item)\n",
    "                category3 = get_cate(item)\n",
    "                if img_url != None:\n",
    "                    arr.append({\n",
    "                        \"name\":name,\n",
    "                        \"imgUrl\":img_url,\n",
    "                        \"fullName\":full_name,\n",
    "                        \"catergory\": category,\n",
    "                        \"catergory2\": category2,\n",
    "                        \"catergory3\": category3,\n",
    "                    })\n",
    "        print(f\"Got {num_plants} plants\")\n",
    "        save_arr()\n",
    "    except:\n",
    "        run = False\n",
    "        print(\"Failed stopping\")\n",
    "        "
   ]
  },
  {
   "cell_type": "code",
   "execution_count": 150,
   "id": "d5644f8d",
   "metadata": {},
   "outputs": [
    {
     "data": {
      "text/plain": [
       "458"
      ]
     },
     "execution_count": 150,
     "metadata": {},
     "output_type": "execute_result"
    }
   ],
   "source": [
    "len(arr)"
   ]
  },
  {
   "cell_type": "code",
   "execution_count": 154,
   "id": "31dceec8",
   "metadata": {},
   "outputs": [],
   "source": [
    "with open(\"./bird-game-client/src/plantdata.json\", \"w\", encoding=\"utf-8\") as f:\n",
    "    json.dump(arr,f, ensure_ascii=False)"
   ]
  },
  {
   "cell_type": "code",
   "execution_count": null,
   "id": "781437a5",
   "metadata": {},
   "outputs": [],
   "source": []
  }
 ],
 "metadata": {
  "kernelspec": {
   "display_name": "Python 3",
   "language": "python",
   "name": "python3"
  },
  "language_info": {
   "codemirror_mode": {
    "name": "ipython",
    "version": 3
   },
   "file_extension": ".py",
   "mimetype": "text/x-python",
   "name": "python",
   "nbconvert_exporter": "python",
   "pygments_lexer": "ipython3",
   "version": "3.8.5"
  }
 },
 "nbformat": 4,
 "nbformat_minor": 5
}

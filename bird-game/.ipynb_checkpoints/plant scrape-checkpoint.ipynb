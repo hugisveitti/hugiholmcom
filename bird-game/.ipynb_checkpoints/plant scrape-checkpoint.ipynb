{
 "cells": [
  {
   "cell_type": "code",
   "execution_count": 1,
   "id": "cb7038d4",
   "metadata": {},
   "outputs": [],
   "source": [
    "# scrape plants site ni.is"
   ]
  },
  {
   "cell_type": "code",
   "execution_count": 4,
   "id": "4096a0e1",
   "metadata": {},
   "outputs": [],
   "source": [
    "from lxml import html\n",
    "import requests\n",
    "import json"
   ]
  },
  {
   "cell_type": "code",
   "execution_count": null,
   "id": "cfe90d76",
   "metadata": {},
   "outputs": [],
   "source": [
    "url = \"http://www.ni.is/search/biota?f%5B0%5D=field_spm_tags%3A30911\""
   ]
  }
 ],
 "metadata": {
  "kernelspec": {
   "display_name": "Python 3",
   "language": "python",
   "name": "python3"
  },
  "language_info": {
   "codemirror_mode": {
    "name": "ipython",
    "version": 3
   },
   "file_extension": ".py",
   "mimetype": "text/x-python",
   "name": "python",
   "nbconvert_exporter": "python",
   "pygments_lexer": "ipython3",
   "version": "3.8.5"
  }
 },
 "nbformat": 4,
 "nbformat_minor": 5
}
